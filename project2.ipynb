{
 "cells": [
  {
   "cell_type": "code",
   "execution_count": 1,
   "id": "43b58799-610a-44ba-be1b-903a7aab58f5",
   "metadata": {},
   "outputs": [
    {
     "name": "stdout",
     "output_type": "stream",
     "text": [
      "Welcome to the Word Counter Program!\n",
      "Enter a sentence or paragraph below:\n"
     ]
    },
    {
     "name": "stdin",
     "output_type": "stream",
     "text": [
      "Your text:  4\n"
     ]
    },
    {
     "name": "stdout",
     "output_type": "stream",
     "text": [
      "\n",
      "The text you entered contains 1 word(s).\n",
      "Thank you for using the Word Counter Program!\n"
     ]
    }
   ],
   "source": [
    "def count_words(text):\n",
    "    \"\"\"\n",
    "    Function to count the number of words in the given text.\n",
    "    \"\"\"\n",
    "    # Split the text by whitespace and count the number of items in the list\n",
    "    words = text.split()\n",
    "    return len(words)\n",
    "\n",
    "def main():\n",
    "    \"\"\"\n",
    "    Main function to handle user input and display the word count.\n",
    "    \"\"\"\n",
    "    print(\"Welcome to the Word Counter Program!\")\n",
    "    print(\"Enter a sentence or paragraph below:\")\n",
    "    \n",
    "    # Take user input\n",
    "    user_input = input(\"Your text: \").strip()\n",
    "    \n",
    "    # Check if the input is empty\n",
    "    if not user_input:\n",
    "        print(\"Error: You entered an empty string. Please provide valid text.\")\n",
    "        return\n",
    "    \n",
    "    # Count the words\n",
    "    word_count = count_words(user_input)\n",
    "    \n",
    "    # Display the result\n",
    "    print(f\"\\nThe text you entered contains {word_count} word(s).\")\n",
    "    print(\"Thank you for using the Word Counter Program!\")\n",
    "\n",
    "# Run the program\n",
    "if __name__ == \"__main__\":\n",
    "    main()\n"
   ]
  },
  {
   "cell_type": "code",
   "execution_count": null,
   "id": "accb1333-6c69-4a38-8129-50a50bf6facb",
   "metadata": {},
   "outputs": [],
   "source": []
  }
 ],
 "metadata": {
  "kernelspec": {
   "display_name": "Python 3 (ipykernel)",
   "language": "python",
   "name": "python3"
  },
  "language_info": {
   "codemirror_mode": {
    "name": "ipython",
    "version": 3
   },
   "file_extension": ".py",
   "mimetype": "text/x-python",
   "name": "python",
   "nbconvert_exporter": "python",
   "pygments_lexer": "ipython3",
   "version": "3.12.4"
  }
 },
 "nbformat": 4,
 "nbformat_minor": 5
}
