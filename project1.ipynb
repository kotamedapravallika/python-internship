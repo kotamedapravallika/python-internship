{
 "cells": [
  {
   "cell_type": "code",
   "execution_count": 15,
   "id": "3d7de749-fc50-4d6d-a054-8777bc2bcade",
   "metadata": {},
   "outputs": [
    {
     "name": "stdout",
     "output_type": "stream",
     "text": [
      "Welcome to the Random Username Generator!\n"
     ]
    },
    {
     "name": "stdin",
     "output_type": "stream",
     "text": [
      "Include numbers in usernames? (yes/no):  34\n",
      "Include special characters? (yes/no):  34\n",
      "Enter the desired length of the usernames (minimum 8):  5\n"
     ]
    },
    {
     "name": "stdout",
     "output_type": "stream",
     "text": [
      "Length must be at least 8. Setting to default (10).\n"
     ]
    },
    {
     "name": "stdin",
     "output_type": "stream",
     "text": [
      "How many usernames would you like to generate?  5\n"
     ]
    },
    {
     "name": "stdout",
     "output_type": "stream",
     "text": [
      "\n",
      "Generated Usernames:\n",
      "SmartTiger\n",
      "SillyWizar\n",
      "CharmingTi\n",
      "SmartDrago\n",
      "BraveEagle\n"
     ]
    },
    {
     "name": "stdin",
     "output_type": "stream",
     "text": [
      "\n",
      "Do you want to save these usernames to a file? (yes/no):  4\n"
     ]
    }
   ],
   "source": [
    "import random\n",
    "import string\n",
    "\n",
    "def generate_username(include_numbers=True, include_special_chars=False, length=10):\n",
    "    # Predefined lists of adjectives and nouns\n",
    "    adjectives = [\"Cool\", \"Happy\", \"Silly\", \"Brave\", \"Smart\", \"Charming\"]\n",
    "    nouns = [\"Tiger\", \"Dragon\", \"Eagle\", \"Wizard\", \"Phoenix\", \"Knight\"]\n",
    "\n",
    "    # Combine random adjective and noun\n",
    "    adjective = random.choice(adjectives)\n",
    "    noun = random.choice(nouns)\n",
    "    username = adjective + noun\n",
    "\n",
    "    # Add numbers if specified\n",
    "    if include_numbers:\n",
    "        username += str(random.randint(10, 99))\n",
    "\n",
    "    # Add special characters if specified\n",
    "    if include_special_chars:\n",
    "        username += random.choice(string.punctuation)\n",
    "\n",
    "    # Adjust length if needed\n",
    "    if len(username) < length:\n",
    "        extra_chars = ''.join(random.choices(string.ascii_letters + string.digits, k=length - len(username)))\n",
    "        username += extra_chars\n",
    "\n",
    "    return username[:length]  # Ensure username does not exceed the specified length\n",
    "\n",
    "def save_usernames_to_file(usernames, filename=\"usernames.txt\"):\n",
    "    with open(filename, \"w\") as file:\n",
    "        file.write(\"\\n\".join(usernames))\n",
    "    print(f\"Usernames saved to {filename}!\")\n",
    "\n",
    "def main():\n",
    "    print(\"Welcome to the Random Username Generator!\")\n",
    "    \n",
    "    # Get user preferences\n",
    "    include_numbers = input(\"Include numbers in usernames? (yes/no): \").strip().lower() == \"yes\"\n",
    "    include_special_chars = input(\"Include special characters? (yes/no): \").strip().lower() == \"yes\"\n",
    "    length = int(input(\"Enter the desired length of the usernames (minimum 8): \"))\n",
    "    if length < 8:\n",
    "        print(\"Length must be at least 8. Setting to default (10).\")\n",
    "        length = 10\n",
    "\n",
    "    # Generate usernames\n",
    "    count = int(input(\"How many usernames would you like to generate? \"))\n",
    "    usernames = [generate_username(include_numbers, include_special_chars, length) for _ in range(count)]\n",
    "\n",
    "    # Display usernames\n",
    "    print(\"\\nGenerated Usernames:\")\n",
    "    for username in usernames:\n",
    "        print(username)\n",
    "\n",
    "    # Save to file\n",
    "    save_to_file = input(\"\\nDo you want to save these usernames to a file? (yes/no): \").strip().lower() == \"yes\"\n",
    "    if save_to_file:\n",
    "        save_usernames_to_file(usernames)\n",
    "\n",
    "if __name__ == \"__main__\":\n",
    "    main()\n"
   ]
  },
  {
   "cell_type": "code",
   "execution_count": 1,
   "id": "943ef77a-c8db-4c8a-a56f-f8186515291d",
   "metadata": {},
   "outputs": [
    {
     "data": {
      "text/plain": [
       "'C:\\\\Users\\\\pravallika'"
      ]
     },
     "execution_count": 1,
     "metadata": {},
     "output_type": "execute_result"
    }
   ],
   "source": [
    "pwd\n"
   ]
  },
  {
   "cell_type": "code",
   "execution_count": null,
   "id": "4e3d4677-6bcc-4571-8778-14eac247dd6d",
   "metadata": {},
   "outputs": [],
   "source": []
  },
  {
   "cell_type": "code",
   "execution_count": null,
   "id": "2ccf4661-8e2b-4bdb-9c85-8e5ff3558954",
   "metadata": {},
   "outputs": [],
   "source": []
  },
  {
   "cell_type": "code",
   "execution_count": null,
   "id": "10950c32-6e69-4ac3-a6c4-8b067535b758",
   "metadata": {},
   "outputs": [],
   "source": []
  },
  {
   "cell_type": "code",
   "execution_count": null,
   "id": "9ed7ddbc-42d0-4fb6-978a-3cf81a244b27",
   "metadata": {},
   "outputs": [],
   "source": []
  },
  {
   "cell_type": "code",
   "execution_count": null,
   "id": "6d532d7a-f345-4358-843e-5f17244e327f",
   "metadata": {},
   "outputs": [],
   "source": []
  },
  {
   "cell_type": "code",
   "execution_count": null,
   "id": "62f3046d-f3b1-4bbb-8d59-b9817226b97a",
   "metadata": {},
   "outputs": [],
   "source": []
  },
  {
   "cell_type": "code",
   "execution_count": null,
   "id": "f79481e2-e213-42cc-8496-355b9c10fbad",
   "metadata": {},
   "outputs": [],
   "source": []
  },
  {
   "cell_type": "code",
   "execution_count": null,
   "id": "624c96d6-aefe-4be9-8266-362895f20429",
   "metadata": {},
   "outputs": [],
   "source": []
  },
  {
   "cell_type": "code",
   "execution_count": null,
   "id": "e75c34a3-9243-49b3-857f-c891a6084e46",
   "metadata": {},
   "outputs": [],
   "source": []
  },
  {
   "cell_type": "code",
   "execution_count": null,
   "id": "acb4f651-73aa-4a2d-a48a-ed40c2bab322",
   "metadata": {},
   "outputs": [],
   "source": []
  },
  {
   "cell_type": "code",
   "execution_count": null,
   "id": "b038d7f3-4334-4a17-8ba8-fbdab2d54e10",
   "metadata": {},
   "outputs": [],
   "source": []
  },
  {
   "cell_type": "code",
   "execution_count": null,
   "id": "e4941352-a5d6-4d92-8be1-86341757a4b3",
   "metadata": {},
   "outputs": [],
   "source": []
  },
  {
   "cell_type": "code",
   "execution_count": null,
   "id": "2b3a6c81-c822-47ec-8c02-0a42f943a226",
   "metadata": {},
   "outputs": [],
   "source": []
  }
 ],
 "metadata": {
  "kernelspec": {
   "display_name": "Python 3 (ipykernel)",
   "language": "python",
   "name": "python3"
  },
  "language_info": {
   "codemirror_mode": {
    "name": "ipython",
    "version": 3
   },
   "file_extension": ".py",
   "mimetype": "text/x-python",
   "name": "python",
   "nbconvert_exporter": "python",
   "pygments_lexer": "ipython3",
   "version": "3.12.4"
  }
 },
 "nbformat": 4,
 "nbformat_minor": 5
}
